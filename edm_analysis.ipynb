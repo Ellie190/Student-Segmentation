{
 "cells": [
  {
   "cell_type": "markdown",
   "id": "552074ed",
   "metadata": {},
   "source": [
    "# Student Segmentation \n",
    "- Web-based Clustering Application Using a Shiny Framework for Determining Student Engagement Levels in Virtual Learning Environments"
   ]
  },
  {
   "cell_type": "code",
   "execution_count": 1,
   "id": "48e288dd",
   "metadata": {},
   "outputs": [],
   "source": [
    "# Measure Model Execution Time\n",
    "import time\n",
    "\n",
    "# Data Manipulation\n",
    "import pandas as pd \n",
    "\n",
    "# Mathematical Operations \n",
    "import numpy as np\n",
    "\n",
    "# Data Visualisation\n",
    "import seaborn as sns\n",
    "import matplotlib.pyplot as plt\n",
    "\n",
    "# K-means Clustering \n",
    "from sklearn.cluster import KMeans\n",
    "\n",
    "# Gaussian Mixture Model (GMM)\n",
    "from sklearn.mixture import GaussianMixture\n",
    "\n",
    "# Optimal Number of Cluster Selection & Visualisation\n",
    "from yellowbrick.cluster import KElbowVisualizer\n",
    "\n",
    "# Data Standardization \n",
    "from sklearn.preprocessing import StandardScaler\n",
    "\n",
    "# Clustering Model Evaluation Metrics\n",
    "from sklearn.metrics import silhouette_score \n",
    "from sklearn.metrics import calinski_harabasz_score\n",
    "from sklearn.metrics import davies_bouldin_score"
   ]
  },
  {
   "cell_type": "markdown",
   "id": "8fe41ac7",
   "metadata": {},
   "source": [
    "### Student Virtual Learning Environment\n",
    "The studentVle.csv file contains information about each student’s interactions with the materials in the VLE. This file contains the following columns:\n",
    "\n",
    "- `code_module` – an identification code for a module.\n",
    "- `code_presentation` - the identification code of the module presentation.\n",
    "- `id_student` – a unique identification number for the student.\n",
    "- `id_site` - an identification number for the VLE material.\n",
    "- `date` – the date of student’s interaction with the material measured as the number of days since the start of the module-presentation.\n",
    "- `sum_click` – the number of times a student interacts with the material in that day."
   ]
  },
  {
   "cell_type": "code",
   "execution_count": 2,
   "id": "a9687a9a",
   "metadata": {},
   "outputs": [],
   "source": [
    "df_studentVle = pd.read_csv('oulad/studentVle.csv')"
   ]
  },
  {
   "cell_type": "code",
   "execution_count": 3,
   "id": "bd830277",
   "metadata": {},
   "outputs": [
    {
     "data": {
      "text/html": [
       "<div>\n",
       "<style scoped>\n",
       "    .dataframe tbody tr th:only-of-type {\n",
       "        vertical-align: middle;\n",
       "    }\n",
       "\n",
       "    .dataframe tbody tr th {\n",
       "        vertical-align: top;\n",
       "    }\n",
       "\n",
       "    .dataframe thead th {\n",
       "        text-align: right;\n",
       "    }\n",
       "</style>\n",
       "<table border=\"1\" class=\"dataframe\">\n",
       "  <thead>\n",
       "    <tr style=\"text-align: right;\">\n",
       "      <th></th>\n",
       "      <th>code_module</th>\n",
       "      <th>code_presentation</th>\n",
       "      <th>id_student</th>\n",
       "      <th>id_site</th>\n",
       "      <th>date</th>\n",
       "      <th>sum_click</th>\n",
       "    </tr>\n",
       "  </thead>\n",
       "  <tbody>\n",
       "    <tr>\n",
       "      <th>1299214</th>\n",
       "      <td>BBB</td>\n",
       "      <td>2014B</td>\n",
       "      <td>411895</td>\n",
       "      <td>768376</td>\n",
       "      <td>43</td>\n",
       "      <td>1</td>\n",
       "    </tr>\n",
       "    <tr>\n",
       "      <th>8247681</th>\n",
       "      <td>FFF</td>\n",
       "      <td>2013J</td>\n",
       "      <td>592640</td>\n",
       "      <td>716303</td>\n",
       "      <td>211</td>\n",
       "      <td>1</td>\n",
       "    </tr>\n",
       "    <tr>\n",
       "      <th>2384159</th>\n",
       "      <td>CCC</td>\n",
       "      <td>2014B</td>\n",
       "      <td>1678800</td>\n",
       "      <td>729674</td>\n",
       "      <td>221</td>\n",
       "      <td>1</td>\n",
       "    </tr>\n",
       "    <tr>\n",
       "      <th>24582</th>\n",
       "      <td>AAA</td>\n",
       "      <td>2013J</td>\n",
       "      <td>228082</td>\n",
       "      <td>546667</td>\n",
       "      <td>10</td>\n",
       "      <td>4</td>\n",
       "    </tr>\n",
       "    <tr>\n",
       "      <th>7475089</th>\n",
       "      <td>FFF</td>\n",
       "      <td>2013J</td>\n",
       "      <td>184720</td>\n",
       "      <td>716246</td>\n",
       "      <td>22</td>\n",
       "      <td>6</td>\n",
       "    </tr>\n",
       "    <tr>\n",
       "      <th>9231589</th>\n",
       "      <td>FFF</td>\n",
       "      <td>2014J</td>\n",
       "      <td>674226</td>\n",
       "      <td>883037</td>\n",
       "      <td>11</td>\n",
       "      <td>1</td>\n",
       "    </tr>\n",
       "    <tr>\n",
       "      <th>525260</th>\n",
       "      <td>BBB</td>\n",
       "      <td>2013B</td>\n",
       "      <td>186988</td>\n",
       "      <td>542891</td>\n",
       "      <td>54</td>\n",
       "      <td>10</td>\n",
       "    </tr>\n",
       "    <tr>\n",
       "      <th>10255751</th>\n",
       "      <td>FFF</td>\n",
       "      <td>2014J</td>\n",
       "      <td>575069</td>\n",
       "      <td>973777</td>\n",
       "      <td>241</td>\n",
       "      <td>51</td>\n",
       "    </tr>\n",
       "    <tr>\n",
       "      <th>3787032</th>\n",
       "      <td>DDD</td>\n",
       "      <td>2013J</td>\n",
       "      <td>469389</td>\n",
       "      <td>673537</td>\n",
       "      <td>14</td>\n",
       "      <td>12</td>\n",
       "    </tr>\n",
       "    <tr>\n",
       "      <th>920223</th>\n",
       "      <td>BBB</td>\n",
       "      <td>2013J</td>\n",
       "      <td>528464</td>\n",
       "      <td>703894</td>\n",
       "      <td>53</td>\n",
       "      <td>7</td>\n",
       "    </tr>\n",
       "  </tbody>\n",
       "</table>\n",
       "</div>"
      ],
      "text/plain": [
       "         code_module code_presentation  id_student  id_site  date  sum_click\n",
       "1299214          BBB             2014B      411895   768376    43          1\n",
       "8247681          FFF             2013J      592640   716303   211          1\n",
       "2384159          CCC             2014B     1678800   729674   221          1\n",
       "24582            AAA             2013J      228082   546667    10          4\n",
       "7475089          FFF             2013J      184720   716246    22          6\n",
       "9231589          FFF             2014J      674226   883037    11          1\n",
       "525260           BBB             2013B      186988   542891    54         10\n",
       "10255751         FFF             2014J      575069   973777   241         51\n",
       "3787032          DDD             2013J      469389   673537    14         12\n",
       "920223           BBB             2013J      528464   703894    53          7"
      ]
     },
     "execution_count": 3,
     "metadata": {},
     "output_type": "execute_result"
    }
   ],
   "source": [
    "df_studentVle.sample(10)"
   ]
  },
  {
   "cell_type": "markdown",
   "id": "a7b1b941",
   "metadata": {},
   "source": [
    "**Dataset Information**"
   ]
  },
  {
   "cell_type": "code",
   "execution_count": 4,
   "id": "c070c7ee",
   "metadata": {},
   "outputs": [
    {
     "name": "stdout",
     "output_type": "stream",
     "text": [
      "<class 'pandas.core.frame.DataFrame'>\n",
      "RangeIndex: 10655280 entries, 0 to 10655279\n",
      "Data columns (total 6 columns):\n",
      " #   Column             Dtype \n",
      "---  ------             ----- \n",
      " 0   code_module        object\n",
      " 1   code_presentation  object\n",
      " 2   id_student         int64 \n",
      " 3   id_site            int64 \n",
      " 4   date               int64 \n",
      " 5   sum_click          int64 \n",
      "dtypes: int64(4), object(2)\n",
      "memory usage: 487.8+ MB\n"
     ]
    }
   ],
   "source": [
    "df_studentVle.info()"
   ]
  },
  {
   "cell_type": "markdown",
   "id": "8d9cc944",
   "metadata": {},
   "source": [
    "**Unique categories/values**"
   ]
  },
  {
   "cell_type": "code",
   "execution_count": 5,
   "id": "fcf7740f",
   "metadata": {},
   "outputs": [
    {
     "data": {
      "text/plain": [
       "2014J    3619452\n",
       "2013J    2988784\n",
       "2014B    2160176\n",
       "2013B    1886868\n",
       "Name: code_presentation, dtype: int64"
      ]
     },
     "execution_count": 5,
     "metadata": {},
     "output_type": "execute_result"
    }
   ],
   "source": [
    "# Unique Code presentations \n",
    "df_studentVle['code_presentation'].value_counts()"
   ]
  },
  {
   "cell_type": "code",
   "execution_count": 6,
   "id": "d6785f30",
   "metadata": {},
   "outputs": [
    {
     "data": {
      "text/plain": [
       "FFF    4014499\n",
       "DDD    2166486\n",
       "BBB    1567564\n",
       "CCC    1207827\n",
       "EEE     961433\n",
       "GGG     387173\n",
       "AAA     350298\n",
       "Name: code_module, dtype: int64"
      ]
     },
     "execution_count": 6,
     "metadata": {},
     "output_type": "execute_result"
    }
   ],
   "source": [
    "# Unique Code module\n",
    "df_studentVle['code_module'].value_counts()"
   ]
  },
  {
   "cell_type": "markdown",
   "id": "7201265f",
   "metadata": {},
   "source": [
    "**Percentage of Missing Values**"
   ]
  },
  {
   "cell_type": "code",
   "execution_count": 7,
   "id": "4807c5a0",
   "metadata": {},
   "outputs": [
    {
     "data": {
      "text/plain": [
       "code_module          0.0\n",
       "code_presentation    0.0\n",
       "id_student           0.0\n",
       "id_site              0.0\n",
       "date                 0.0\n",
       "sum_click            0.0\n",
       "dtype: float64"
      ]
     },
     "execution_count": 7,
     "metadata": {},
     "output_type": "execute_result"
    }
   ],
   "source": [
    "# Percentage of missing values in each column\n",
    "df_studentVle.isnull().sum()/len(df_studentVle) * 100"
   ]
  },
  {
   "cell_type": "markdown",
   "id": "a9adc784",
   "metadata": {},
   "source": [
    "### Descriptive Statistics of Sum of Clicks"
   ]
  },
  {
   "cell_type": "code",
   "execution_count": 8,
   "id": "62311d81",
   "metadata": {},
   "outputs": [
    {
     "data": {
      "text/plain": [
       "count    10655280.00000\n",
       "mean            3.71695\n",
       "std             8.84905\n",
       "min             1.00000\n",
       "25%             1.00000\n",
       "50%             2.00000\n",
       "75%             3.00000\n",
       "max          6977.00000\n",
       "Name: sum_click, dtype: object"
      ]
     },
     "execution_count": 8,
     "metadata": {},
     "output_type": "execute_result"
    }
   ],
   "source": [
    "df_studentVle['sum_click'].describe().apply(lambda x: '%.5f' % x)"
   ]
  },
  {
   "cell_type": "code",
   "execution_count": 20,
   "id": "917042f6",
   "metadata": {},
   "outputs": [
    {
     "data": {
      "image/png": "[encoded data removed]",
      "text/plain": [
       "<Figure size 1152x576 with 1 Axes>"
      ]
     },
     "metadata": {},
     "output_type": "display_data"
    }
   ],
   "source": [
    "plt.figure(figsize=(16,8))\n",
    "sns.histplot(df_studentVle['sum_click'], kde=False)\n",
    "plt.title(\"Distribution of Sum of Clicks\", fontsize=15)\n",
    "plt.show()"
   ]
  },
  {
   "cell_type": "markdown",
   "id": "b5f92b55",
   "metadata": {},
   "source": [
    "**Outliers**"
   ]
  },
  {
   "cell_type": "code",
   "execution_count": 24,
   "id": "3aea78f9",
   "metadata": {},
   "outputs": [
    {
     "name": "stderr",
     "output_type": "stream",
     "text": [
      "C:\\ProgramData\\Anaconda3\\lib\\site-packages\\seaborn\\_decorators.py:36: FutureWarning: Pass the following variable as a keyword arg: x. From version 0.12, the only valid positional argument will be `data`, and passing other arguments without an explicit keyword will result in an error or misinterpretation.\n",
      "  warnings.warn(\n"
     ]
    },
    {
     "data": {
      "image/png": "[encoded data removed]",
      "text/plain": [
       "<Figure size 1152x576 with 1 Axes>"
      ]
     },
     "metadata": {},
     "output_type": "display_data"
    }
   ],
   "source": [
    "plt.figure(figsize=(16,8))\n",
    "sns.boxplot(df_studentVle['sum_click']);\n",
    "plt.title(\"Distribution of Sum of Clicks\", fontsize=15)\n",
    "plt.show()"
   ]
  },
  {
   "cell_type": "code",
   "execution_count": 26,
   "id": "e17cb547",
   "metadata": {},
   "outputs": [
    {
     "name": "stdout",
     "output_type": "stream",
     "text": [
      "Q1 1.0\n",
      "Q3 3.0\n",
      "IQR 2.0\n",
      "Upper Bound 6.0\n",
      "Lower Bound -2.0\n"
     ]
    }
   ],
   "source": [
    "columns = ['sum_click']\n",
    "for column in df_studentVle[columns]:\n",
    "    df1_Q1 = df_studentVle[column].describe()['25%']\n",
    "    print(\"Q1\", df1_Q1)\n",
    "    df1_Q3 = df_studentVle[column].describe()['75%']\n",
    "    print(\"Q3\", df1_Q3)\n",
    "    df1_IQR = df1_Q3 - df1_Q1\n",
    "    print(\"IQR\", df1_IQR)\n",
    "    # Any number greater than this is a suspected outlier.\n",
    "    df1_ub = (df1_Q3 +1.5*df1_IQR)\n",
    "    print(\"Upper Bound\", df1_ub)\n",
    "    # Any number less than this is a suspected outlier.\n",
    "    df1_lb = (df1_Q1 -1.5*df1_IQR)\n",
    "    print(\"Lower Bound\", df1_lb)"
   ]
  },
  {
   "cell_type": "markdown",
   "id": "725a56cd",
   "metadata": {},
   "source": [
    "# Clustering "
   ]
  },
  {
   "cell_type": "markdown",
   "id": "8e604421",
   "metadata": {},
   "source": [
    "## K-means "
   ]
  },
  {
   "cell_type": "code",
   "execution_count": 9,
   "id": "f771d19d",
   "metadata": {},
   "outputs": [
    {
     "data": {
      "text/plain": [
       "0     4\n",
       "1     1\n",
       "2     1\n",
       "3    11\n",
       "4     1\n",
       "Name: sum_click, dtype: int64"
      ]
     },
     "execution_count": 9,
     "metadata": {},
     "output_type": "execute_result"
    }
   ],
   "source": [
    "# Sum of clicks dataframe for K-means \n",
    "sc_kmeans_df = df_studentVle['sum_click']\n",
    "sc_kmeans_df.head()"
   ]
  },
  {
   "cell_type": "markdown",
   "id": "dd33aeae",
   "metadata": {},
   "source": [
    "**Data Reshape**\n",
    "- Reshape data to be 2D not 1D as fitting a model requires a 2D array "
   ]
  },
  {
   "cell_type": "code",
   "execution_count": 10,
   "id": "a4c79563",
   "metadata": {},
   "outputs": [],
   "source": [
    "sc_kmeans_df = sc_kmeans_df.values.reshape(-1,1)"
   ]
  },
  {
   "cell_type": "code",
   "execution_count": 11,
   "id": "73fc9f9d",
   "metadata": {},
   "outputs": [
    {
     "data": {
      "text/plain": [
       "array([[4],\n",
       "       [1],\n",
       "       [1],\n",
       "       ...,\n",
       "       [3],\n",
       "       [1],\n",
       "       [1]], dtype=int64)"
      ]
     },
     "execution_count": 11,
     "metadata": {},
     "output_type": "execute_result"
    }
   ],
   "source": [
    "sc_kmeans_df"
   ]
  },
  {
   "cell_type": "markdown",
   "id": "8175ee08",
   "metadata": {},
   "source": [
    "### Data Standardization"
   ]
  },
  {
   "cell_type": "code",
   "execution_count": 12,
   "id": "7fca46c3",
   "metadata": {},
   "outputs": [],
   "source": [
    "from sklearn.preprocessing import StandardScaler\n",
    "scaler = StandardScaler()"
   ]
  },
  {
   "cell_type": "code",
   "execution_count": 13,
   "id": "36b321e0",
   "metadata": {},
   "outputs": [],
   "source": [
    "# Standardize Sum of Clicks for kmeans \n",
    "sc_kmeans_df = scaler.fit_transform(sc_kmeans_df)"
   ]
  },
  {
   "cell_type": "code",
   "execution_count": 14,
   "id": "b0b912f5",
   "metadata": {},
   "outputs": [
    {
     "data": {
      "text/plain": [
       "array([[ 0.03198696],\n",
       "       [-0.30703262],\n",
       "       [-0.30703262],\n",
       "       ...,\n",
       "       [-0.08101956],\n",
       "       [-0.30703262],\n",
       "       [-0.30703262]])"
      ]
     },
     "execution_count": 14,
     "metadata": {},
     "output_type": "execute_result"
    }
   ],
   "source": [
    "sc_kmeans_df"
   ]
  },
  {
   "cell_type": "markdown",
   "id": "ba881e27",
   "metadata": {},
   "source": [
    "### Selecting the Optimal Number of Clusters\n",
    "- Silhouette Method\n",
    "- Gap Statistics "
   ]
  },
  {
   "cell_type": "markdown",
   "id": "078f8d37",
   "metadata": {},
   "source": [
    "**Gap Statistics**"
   ]
  },
  {
   "cell_type": "code",
   "execution_count": 15,
   "id": "4d544954",
   "metadata": {},
   "outputs": [],
   "source": [
    "# Gap Statistic for K means\n",
    "def optimalK(data, nrefs=3, maxClusters=15):\n",
    "    \"\"\"\n",
    "    Calculates KMeans optimal K using Gap Statistic from Tibshirani, Walther, Hastie\n",
    "    Params:\n",
    "        data: ndarry of shape (n_samples, n_features)\n",
    "        nrefs: number of sample reference datasets to create\n",
    "        maxClusters: Maximum number of clusters to test for\n",
    "    Returns: (gaps, optimalK)\n",
    "    \"\"\"\n",
    "    gaps = np.zeros((len(range(1, maxClusters)),))\n",
    "    resultsdf = pd.DataFrame({'clusterCount':[], 'gap':[]})\n",
    "    for gap_index, k in enumerate(range(1, maxClusters)):\n",
    "\n",
    "        # Holder for reference dispersion results\n",
    "        refDisps = np.zeros(nrefs)\n",
    "\n",
    "        # For n references, generate random sample and perform kmeans getting resulting dispersion of each loop\n",
    "        for i in range(nrefs):\n",
    "            \n",
    "            # Create new random reference set\n",
    "            randomReference = np.random.random_sample(size=data.shape)\n",
    "            \n",
    "            # Fit to it\n",
    "            km = KMeans(k, random_state =10)\n",
    "            km.fit(randomReference)\n",
    "            \n",
    "            refDisp = km.inertia_\n",
    "            refDisps[i] = refDisp\n",
    "\n",
    "        # Fit cluster to original data and create dispersion\n",
    "        km = KMeans(k)\n",
    "        km.fit(data)\n",
    "        \n",
    "        origDisp = km.inertia_\n",
    "\n",
    "        # Calculate gap statistic\n",
    "        gap = np.log(np.mean(refDisps)) - np.log(origDisp)\n",
    "\n",
    "        # Assign this loop's gap statistic to gaps\n",
    "        gaps[gap_index] = gap\n",
    "        \n",
    "        resultsdf = resultsdf.append({'clusterCount':k, 'gap':gap}, ignore_index=True)\n",
    "\n",
    "    return (gaps.argmax() + 1, resultsdf)"
   ]
  },
  {
   "cell_type": "code",
   "execution_count": 16,
   "id": "6aca5f3d",
   "metadata": {},
   "outputs": [],
   "source": [
    "start_time = time.time()\n",
    "score_g, df = optimalK(sc_kmeans_df, nrefs=5, maxClusters=30)\n",
    "end_time = time.time()"
   ]
  },
  {
   "cell_type": "code",
   "execution_count": 17,
   "id": "f098b54b",
   "metadata": {},
   "outputs": [
    {
     "name": "stdout",
     "output_type": "stream",
     "text": [
      "Execution time: 18621.754524707794 seconds\n"
     ]
    }
   ],
   "source": [
    "elapsed_time = end_time - start_time\n",
    "print('Execution time:', elapsed_time, 'seconds')"
   ]
  },
  {
   "cell_type": "code",
   "execution_count": 18,
   "id": "dbde5c7d",
   "metadata": {},
   "outputs": [
    {
     "data": {
      "image/png": "[encoded data removed]",
      "text/plain": [
       "<Figure size 1152x576 with 1 Axes>"
      ]
     },
     "metadata": {},
     "output_type": "display_data"
    }
   ],
   "source": [
    "plt.figure(figsize=(16,8))\n",
    "plt.plot(df['clusterCount'], df['gap'], linestyle='--', marker='o', color='b');\n",
    "plt.xlabel('K');\n",
    "plt.ylabel('Gap Statistic');\n",
    "plt.title('Gap Statistic vs. K');"
   ]
  },
  {
   "cell_type": "code",
   "execution_count": 37,
   "id": "b1c9548f",
   "metadata": {},
   "outputs": [
    {
     "name": "stdout",
     "output_type": "stream",
     "text": [
      "Optimal number of clusters based on gap statistic: [1.0]\n"
     ]
    }
   ],
   "source": [
    "df2 = df[df.gap == df.gap.max()]\n",
    "print('Optimal number of clusters based on gap statistic:', df2['clusterCount'].tolist())"
   ]
  },
  {
   "cell_type": "markdown",
   "id": "554ee337",
   "metadata": {},
   "source": [
    "**Elbow Method**"
   ]
  },
  {
   "cell_type": "code",
   "execution_count": 35,
   "id": "03feeed8",
   "metadata": {},
   "outputs": [
    {
     "data": {
      "image/png": "[encoded data removed]",
      "text/plain": [
       "<Figure size 576x396 with 2 Axes>"
      ]
     },
     "metadata": {},
     "output_type": "display_data"
    },
    {
     "data": {
      "text/plain": [
       "<AxesSubplot:title={'center':'Distortion Score Elbow for KMeans Clustering'}, xlabel='k', ylabel='distortion score'>"
      ]
     },
     "execution_count": 35,
     "metadata": {},
     "output_type": "execute_result"
    }
   ],
   "source": [
    "# Elbow Method for K means\n",
    "from sklearn.cluster import KMeans\n",
    "from yellowbrick.cluster import KElbowVisualizer\n",
    "model = KMeans(random_state =10)\n",
    "# k is range of number of clusters.\n",
    "visualizer = KElbowVisualizer(model, k=(2,30), timings= True)\n",
    "# Fit the data to the visualizer\n",
    "visualizer.fit(sc_kmeans_df)        \n",
    "visualizer.show() "
   ]
  },
  {
   "cell_type": "markdown",
   "id": "34cb142f",
   "metadata": {},
   "source": [
    "**Silhouette Method**"
   ]
  },
  {
   "cell_type": "code",
   "execution_count": null,
   "id": "30351aa4",
   "metadata": {},
   "outputs": [],
   "source": [
    "# Silhouette Score for K means\n",
    "from yellowbrick.cluster import KElbowVisualizer\n",
    "sm_model = KMeans(random_state =10)\n",
    "# k is range of number of clusters.\n",
    "visualizer = KElbowVisualizer(sm_model, k=(2,30),metric='silhouette', timings= True, locate_elbow=False)\n",
    "# Fit the data to the visualizer\n",
    "visualizer.fit(sc_kmeans_df)   \n",
    "visualizer.show()       "
   ]
  },
  {
   "cell_type": "code",
   "execution_count": null,
   "id": "9291ce4a",
   "metadata": {},
   "outputs": [],
   "source": [
    "sm_df = pd.DataFrame(visualizer.k_values_,columns=['centers'])\n",
    "sm_df['scores'] = visualizer.k_scores_\n",
    "sm_df2 = sm_df[sm_df.scores == sm_df.scores.max()]\n",
    "print('Optimal number of clusters based on silhouette score:', sm_df2['centers'].tolist())"
   ]
  },
  {
   "cell_type": "markdown",
   "id": "35434043",
   "metadata": {},
   "source": [
    "## Gaussian Mixture Model"
   ]
  },
  {
   "cell_type": "code",
   "execution_count": 43,
   "id": "40740fbc",
   "metadata": {},
   "outputs": [
    {
     "data": {
      "text/plain": [
       "array([[4],\n",
       "       [1],\n",
       "       [1],\n",
       "       ...,\n",
       "       [3],\n",
       "       [1],\n",
       "       [1]], dtype=int64)"
      ]
     },
     "execution_count": 43,
     "metadata": {},
     "output_type": "execute_result"
    }
   ],
   "source": [
    "# Sum of clicks dataframe for GMM \n",
    "sc_gmm_df = df_studentVle['sum_click']\n",
    "sc_gmm_df = sc_gmm_df.values.reshape(-1,1)\n",
    "sc_gmm_df"
   ]
  },
  {
   "cell_type": "markdown",
   "id": "d4461c38",
   "metadata": {},
   "source": [
    "### Selecting the Optimal Number of Clusters/Components\n",
    "- Bayesian Information criterion (BIC)\n",
    "- Akaike Information Criterion (AIC)"
   ]
  },
  {
   "cell_type": "code",
   "execution_count": 44,
   "id": "cf191dbf",
   "metadata": {},
   "outputs": [],
   "source": [
    "# BIC and AIC for GMM \n",
    "from sklearn.mixture import GaussianMixture\n",
    "n_components = range(1, 30)\n",
    "covariance_type = ['spherical', 'tied', 'diag', 'full']\n",
    "bic_score = []\n",
    "aic_score = []\n",
    "start_time = time.time()\n",
    "for cov in covariance_type:\n",
    "    for n_comp in n_components:\n",
    "        gmm = GaussianMixture(n_components=n_comp,covariance_type=cov, random_state = 10)\n",
    "        gmm.fit(sc_gmm_df)\n",
    "        bic_score.append((cov,n_comp,gmm.bic(sc_gmm_df)))\n",
    "        aic_score.append((cov,n_comp,gmm.aic(sc_gmm_df)))\n",
    "end_time = time.time()"
   ]
  },
  {
   "cell_type": "code",
   "execution_count": 45,
   "id": "dfd71fa3",
   "metadata": {},
   "outputs": [
    {
     "name": "stdout",
     "output_type": "stream",
     "text": [
      "Execution time: 28017.45046067238 seconds\n"
     ]
    }
   ],
   "source": [
    "elapsed_time = end_time - start_time\n",
    "print('Execution time:', elapsed_time, 'seconds')"
   ]
  },
  {
   "cell_type": "code",
   "execution_count": 46,
   "id": "54eb65fd",
   "metadata": {},
   "outputs": [
    {
     "data": {
      "text/html": [
       "<div>\n",
       "<style scoped>\n",
       "    .dataframe tbody tr th:only-of-type {\n",
       "        vertical-align: middle;\n",
       "    }\n",
       "\n",
       "    .dataframe tbody tr th {\n",
       "        vertical-align: top;\n",
       "    }\n",
       "\n",
       "    .dataframe thead th {\n",
       "        text-align: right;\n",
       "    }\n",
       "</style>\n",
       "<table border=\"1\" class=\"dataframe\">\n",
       "  <thead>\n",
       "    <tr style=\"text-align: right;\">\n",
       "      <th></th>\n",
       "      <th>Covariance_Type</th>\n",
       "      <th>N_Components</th>\n",
       "      <th>BIC_Score</th>\n",
       "    </tr>\n",
       "  </thead>\n",
       "  <tbody>\n",
       "    <tr>\n",
       "      <th>113</th>\n",
       "      <td>full</td>\n",
       "      <td>27</td>\n",
       "      <td>-4.334681e+07</td>\n",
       "    </tr>\n",
       "  </tbody>\n",
       "</table>\n",
       "</div>"
      ],
      "text/plain": [
       "    Covariance_Type  N_Components     BIC_Score\n",
       "113            full            27 -4.334681e+07"
      ]
     },
     "execution_count": 46,
     "metadata": {},
     "output_type": "execute_result"
    }
   ],
   "source": [
    "bic_score_1 = pd.DataFrame(bic_score)\n",
    "bic_score_1.columns = ['Covariance_Type', 'N_Components','BIC_Score']\n",
    "bic_score_2 = bic_score_1[bic_score_1.BIC_Score == bic_score_1.BIC_Score.min()]\n",
    "bic_score_2.head(n=2)"
   ]
  },
  {
   "cell_type": "code",
   "execution_count": 47,
   "id": "8fc7e998",
   "metadata": {},
   "outputs": [
    {
     "data": {
      "text/html": [
       "<div>\n",
       "<style scoped>\n",
       "    .dataframe tbody tr th:only-of-type {\n",
       "        vertical-align: middle;\n",
       "    }\n",
       "\n",
       "    .dataframe tbody tr th {\n",
       "        vertical-align: top;\n",
       "    }\n",
       "\n",
       "    .dataframe thead th {\n",
       "        text-align: right;\n",
       "    }\n",
       "</style>\n",
       "<table border=\"1\" class=\"dataframe\">\n",
       "  <thead>\n",
       "    <tr style=\"text-align: right;\">\n",
       "      <th></th>\n",
       "      <th>Covariance_Type</th>\n",
       "      <th>N_Components</th>\n",
       "      <th>AIC_Score</th>\n",
       "    </tr>\n",
       "  </thead>\n",
       "  <tbody>\n",
       "    <tr>\n",
       "      <th>113</th>\n",
       "      <td>full</td>\n",
       "      <td>27</td>\n",
       "      <td>-4.334795e+07</td>\n",
       "    </tr>\n",
       "  </tbody>\n",
       "</table>\n",
       "</div>"
      ],
      "text/plain": [
       "    Covariance_Type  N_Components     AIC_Score\n",
       "113            full            27 -4.334795e+07"
      ]
     },
     "execution_count": 47,
     "metadata": {},
     "output_type": "execute_result"
    }
   ],
   "source": [
    "aic_score_1 = pd.DataFrame(aic_score)\n",
    "aic_score_1.columns = ['Covariance_Type', 'N_Components','AIC_Score']\n",
    "aic_score_2 = aic_score_1[aic_score_1.AIC_Score == aic_score_1.AIC_Score.min()]\n",
    "aic_score_2.head(n=2)"
   ]
  },
  {
   "cell_type": "code",
   "execution_count": 52,
   "id": "d3e447bc",
   "metadata": {},
   "outputs": [
    {
     "data": {
      "text/plain": [
       "0      7.670203e+07\n",
       "1      5.049982e+07\n",
       "2      4.336246e+07\n",
       "3      4.188189e+07\n",
       "4     -1.955114e+07\n",
       "           ...     \n",
       "111   -4.334615e+07\n",
       "112   -4.334611e+07\n",
       "113   -4.334681e+07\n",
       "114   -4.334676e+07\n",
       "115   -4.333578e+07\n",
       "Name: BIC_Score, Length: 116, dtype: float64"
      ]
     },
     "execution_count": 52,
     "metadata": {},
     "output_type": "execute_result"
    }
   ],
   "source": [
    "bic_score_1.BIC_Score"
   ]
  },
  {
   "cell_type": "code",
   "execution_count": 56,
   "id": "25c765c9",
   "metadata": {},
   "outputs": [
    {
     "data": {
      "text/plain": [
       "0      7.670200e+07\n",
       "1      5.049975e+07\n",
       "2      4.336234e+07\n",
       "3      4.188173e+07\n",
       "4     -1.955134e+07\n",
       "           ...     \n",
       "111   -4.334720e+07\n",
       "112   -4.334720e+07\n",
       "113   -4.334795e+07\n",
       "114   -4.334794e+07\n",
       "115   -4.333700e+07\n",
       "Name: AIC_Score, Length: 116, dtype: float64"
      ]
     },
     "execution_count": 56,
     "metadata": {},
     "output_type": "execute_result"
    }
   ],
   "source": [
    "aic_score_1.AIC_Score"
   ]
  },
  {
   "cell_type": "code",
   "execution_count": 68,
   "id": "7a0b31a1",
   "metadata": {},
   "outputs": [
    {
     "data": {
      "image/png": "[encoded data removed]",
      "text/plain": [
       "<Figure size 1152x576 with 1 Axes>"
      ]
     },
     "metadata": {},
     "output_type": "display_data"
    }
   ],
   "source": [
    "# Plot the BIC and AIC values together\n",
    "fig, ax = plt.subplots(figsize=(16,8),nrows=1)\n",
    "ax.plot(range(1, 117), bic_score_1.BIC_Score, '-o', color='blue', label = 'BIC')\n",
    "ax.plot(range(1, 117), aic_score_1.AIC_Score, '-o', color='orange', label = 'AIC')\n",
    "ax.set(xlabel='Number of Mixture Components', ylabel='Score')\n",
    "ax.set_xticks(range(1, 117))\n",
    "ax.set_xticklabels(ax.get_xticks(), rotation = 90)\n",
    "ax.set_title('Optimal Number of Components for GMM');\n",
    "plt.legend();"
   ]
  },
  {
   "cell_type": "code",
   "execution_count": 69,
   "id": "513e6326",
   "metadata": {},
   "outputs": [
    {
     "data": {
      "text/plain": [
       "[('spherical', 1, 76701999.08134326),\n",
       " ('spherical', 2, 50499749.05456562),\n",
       " ('spherical', 3, 43362342.0102278),\n",
       " ('spherical', 4, 41881731.2007231),\n",
       " ('spherical', 5, -19551338.016336873),\n",
       " ('spherical', 6, -19814111.45863548),\n",
       " ('spherical', 7, -19866735.611155257),\n",
       " ('spherical', 8, -19894083.690873034),\n",
       " ('spherical', 9, -19939114.573439695),\n",
       " ('spherical', 10, -19938774.720205538),\n",
       " ('spherical', 11, -19939250.93369085),\n",
       " ('spherical', 12, -19938120.132643808),\n",
       " ('spherical', 13, -19957691.832185563),\n",
       " ('spherical', 14, -20020384.462799296),\n",
       " ('spherical', 15, -20100495.366367154),\n",
       " ('spherical', 16, -20100172.467167124),\n",
       " ('spherical', 17, -20100852.638692964),\n",
       " ('spherical', 18, -20101107.902846344),\n",
       " ('spherical', 19, -20101926.488879625),\n",
       " ('spherical', 20, -43044228.16828145),\n",
       " ('spherical', 21, -20152507.446558096),\n",
       " ('spherical', 22, -20157711.456182294),\n",
       " ('spherical', 23, -20157710.729035668),\n",
       " ('spherical', 24, -20157712.970898982),\n",
       " ('spherical', 25, -43338323.62204315),\n",
       " ('spherical', 26, -43338325.295994945),\n",
       " ('spherical', 27, -43339009.52900728),\n",
       " ('spherical', 28, -43338999.89706455),\n",
       " ('spherical', 29, -43337035.158539094),\n",
       " ('tied', 1, 76701999.08134326),\n",
       " ('tied', 2, 72282720.00723575),\n",
       " ('tied', 3, 70701413.50587527),\n",
       " ('tied', 4, 70629662.6966049),\n",
       " ('tied', 5, 63658331.06760177),\n",
       " ('tied', 6, 62259677.690853514),\n",
       " ('tied', 7, 60491588.03393925),\n",
       " ('tied', 8, 58999805.9773093),\n",
       " ('tied', 9, 59020333.832062185),\n",
       " ('tied', 10, 58295942.179160096),\n",
       " ('tied', 11, 56859120.427322514),\n",
       " ('tied', 12, 55654653.68912458),\n",
       " ('tied', 13, 54778428.93047858),\n",
       " ('tied', 14, 54115875.21021579),\n",
       " ('tied', 15, 53812586.57919779),\n",
       " ('tied', 16, 53101844.039751224),\n",
       " ('tied', 17, 52340136.91049915),\n",
       " ('tied', 18, 51817642.3242875),\n",
       " ('tied', 19, 51375365.61021029),\n",
       " ('tied', 20, 51425836.91527048),\n",
       " ('tied', 21, 50551513.95013112),\n",
       " ('tied', 22, 50357163.02476058),\n",
       " ('tied', 23, 49811437.708432086),\n",
       " ('tied', 24, 49312567.18856909),\n",
       " ('tied', 25, 49350506.249441415),\n",
       " ('tied', 26, 48804400.23251079),\n",
       " ('tied', 27, 48564887.11806736),\n",
       " ('tied', 28, 48246964.90163386),\n",
       " ('tied', 29, 48175298.48806198),\n",
       " ('diag', 1, 76701999.08134326),\n",
       " ('diag', 2, 50499749.05456562),\n",
       " ('diag', 3, 43362342.0102278),\n",
       " ('diag', 4, 41881731.2007231),\n",
       " ('diag', 5, -19551338.016336873),\n",
       " ('diag', 6, -19814111.45863548),\n",
       " ('diag', 7, -19866735.611155257),\n",
       " ('diag', 8, -19894083.690873034),\n",
       " ('diag', 9, -19939114.573439695),\n",
       " ('diag', 10, -19938774.720205538),\n",
       " ('diag', 11, -19939250.93369085),\n",
       " ('diag', 12, -19938120.132643808),\n",
       " ('diag', 13, -19957691.832185563),\n",
       " ('diag', 14, -20020384.462799296),\n",
       " ('diag', 15, -20100495.366367154),\n",
       " ('diag', 16, -20100172.467167124),\n",
       " ('diag', 17, -20100852.638692964),\n",
       " ('diag', 18, -20101107.902846344),\n",
       " ('diag', 19, -20101926.488879625),\n",
       " ('diag', 20, -43044228.16828145),\n",
       " ('diag', 21, -20152507.446558096),\n",
       " ('diag', 22, -20157711.456182294),\n",
       " ('diag', 23, -20157710.729035668),\n",
       " ('diag', 24, -20157712.970898982),\n",
       " ('diag', 25, -43338323.62204315),\n",
       " ('diag', 26, -43338325.295994945),\n",
       " ('diag', 27, -43339009.52900728),\n",
       " ('diag', 28, -43338999.89706455),\n",
       " ('diag', 29, -43337035.158539094),\n",
       " ('full', 1, 76701999.08134328),\n",
       " ('full', 2, 50499749.054728046),\n",
       " ('full', 3, 43362342.010236345),\n",
       " ('full', 4, 41881731.20083027),\n",
       " ('full', 5, -19551345.210841794),\n",
       " ('full', 6, -19814082.953057777),\n",
       " ('full', 7, -19866821.303752635),\n",
       " ('full', 8, -19893626.644029222),\n",
       " ('full', 9, -19939021.784791928),\n",
       " ('full', 10, -19938962.997350655),\n",
       " ('full', 11, -19939298.378186535),\n",
       " ('full', 12, -19938441.162861492),\n",
       " ('full', 13, -19957629.629790008),\n",
       " ('full', 14, -20019920.701866973),\n",
       " ('full', 15, -20100319.765172765),\n",
       " ('full', 16, -20100556.209782735),\n",
       " ('full', 17, -20100680.858910367),\n",
       " ('full', 18, -20101072.41271673),\n",
       " ('full', 19, -20102123.863329634),\n",
       " ('full', 20, -43044342.93843542),\n",
       " ('full', 21, -20152754.64991206),\n",
       " ('full', 22, -20157458.821738478),\n",
       " ('full', 23, -20157482.81708456),\n",
       " ('full', 24, -20157485.036753032),\n",
       " ('full', 25, -43347198.86190676),\n",
       " ('full', 26, -43347199.174735),\n",
       " ('full', 27, -43347947.751070954),\n",
       " ('full', 28, -43347937.69780435),\n",
       " ('full', 29, -43337004.034427956)]"
      ]
     },
     "execution_count": 69,
     "metadata": {},
     "output_type": "execute_result"
    }
   ],
   "source": [
    "aic_score"
   ]
  },
  {
   "cell_type": "code",
   "execution_count": 75,
   "id": "38e6b40e",
   "metadata": {},
   "outputs": [
    {
     "data": {
      "text/html": [
       "<div>\n",
       "<style scoped>\n",
       "    .dataframe tbody tr th:only-of-type {\n",
       "        vertical-align: middle;\n",
       "    }\n",
       "\n",
       "    .dataframe tbody tr th {\n",
       "        vertical-align: top;\n",
       "    }\n",
       "\n",
       "    .dataframe thead th {\n",
       "        text-align: right;\n",
       "    }\n",
       "</style>\n",
       "<table border=\"1\" class=\"dataframe\">\n",
       "  <thead>\n",
       "    <tr style=\"text-align: right;\">\n",
       "      <th></th>\n",
       "      <th>Covariance_Type</th>\n",
       "      <th>N_Components</th>\n",
       "      <th>AIC_Score</th>\n",
       "    </tr>\n",
       "  </thead>\n",
       "  <tbody>\n",
       "    <tr>\n",
       "      <th>0</th>\n",
       "      <td>spherical</td>\n",
       "      <td>1</td>\n",
       "      <td>7.670200e+07</td>\n",
       "    </tr>\n",
       "    <tr>\n",
       "      <th>1</th>\n",
       "      <td>spherical</td>\n",
       "      <td>2</td>\n",
       "      <td>5.049975e+07</td>\n",
       "    </tr>\n",
       "    <tr>\n",
       "      <th>2</th>\n",
       "      <td>spherical</td>\n",
       "      <td>3</td>\n",
       "      <td>4.336234e+07</td>\n",
       "    </tr>\n",
       "    <tr>\n",
       "      <th>3</th>\n",
       "      <td>spherical</td>\n",
       "      <td>4</td>\n",
       "      <td>4.188173e+07</td>\n",
       "    </tr>\n",
       "    <tr>\n",
       "      <th>4</th>\n",
       "      <td>spherical</td>\n",
       "      <td>5</td>\n",
       "      <td>-1.955134e+07</td>\n",
       "    </tr>\n",
       "    <tr>\n",
       "      <th>5</th>\n",
       "      <td>spherical</td>\n",
       "      <td>6</td>\n",
       "      <td>-1.981411e+07</td>\n",
       "    </tr>\n",
       "    <tr>\n",
       "      <th>6</th>\n",
       "      <td>spherical</td>\n",
       "      <td>7</td>\n",
       "      <td>-1.986674e+07</td>\n",
       "    </tr>\n",
       "    <tr>\n",
       "      <th>7</th>\n",
       "      <td>spherical</td>\n",
       "      <td>8</td>\n",
       "      <td>-1.989408e+07</td>\n",
       "    </tr>\n",
       "    <tr>\n",
       "      <th>8</th>\n",
       "      <td>spherical</td>\n",
       "      <td>9</td>\n",
       "      <td>-1.993911e+07</td>\n",
       "    </tr>\n",
       "    <tr>\n",
       "      <th>9</th>\n",
       "      <td>spherical</td>\n",
       "      <td>10</td>\n",
       "      <td>-1.993877e+07</td>\n",
       "    </tr>\n",
       "    <tr>\n",
       "      <th>10</th>\n",
       "      <td>spherical</td>\n",
       "      <td>11</td>\n",
       "      <td>-1.993925e+07</td>\n",
       "    </tr>\n",
       "    <tr>\n",
       "      <th>11</th>\n",
       "      <td>spherical</td>\n",
       "      <td>12</td>\n",
       "      <td>-1.993812e+07</td>\n",
       "    </tr>\n",
       "    <tr>\n",
       "      <th>12</th>\n",
       "      <td>spherical</td>\n",
       "      <td>13</td>\n",
       "      <td>-1.995769e+07</td>\n",
       "    </tr>\n",
       "    <tr>\n",
       "      <th>13</th>\n",
       "      <td>spherical</td>\n",
       "      <td>14</td>\n",
       "      <td>-2.002038e+07</td>\n",
       "    </tr>\n",
       "    <tr>\n",
       "      <th>14</th>\n",
       "      <td>spherical</td>\n",
       "      <td>15</td>\n",
       "      <td>-2.010050e+07</td>\n",
       "    </tr>\n",
       "    <tr>\n",
       "      <th>15</th>\n",
       "      <td>spherical</td>\n",
       "      <td>16</td>\n",
       "      <td>-2.010017e+07</td>\n",
       "    </tr>\n",
       "    <tr>\n",
       "      <th>16</th>\n",
       "      <td>spherical</td>\n",
       "      <td>17</td>\n",
       "      <td>-2.010085e+07</td>\n",
       "    </tr>\n",
       "    <tr>\n",
       "      <th>17</th>\n",
       "      <td>spherical</td>\n",
       "      <td>18</td>\n",
       "      <td>-2.010111e+07</td>\n",
       "    </tr>\n",
       "    <tr>\n",
       "      <th>18</th>\n",
       "      <td>spherical</td>\n",
       "      <td>19</td>\n",
       "      <td>-2.010193e+07</td>\n",
       "    </tr>\n",
       "    <tr>\n",
       "      <th>19</th>\n",
       "      <td>spherical</td>\n",
       "      <td>20</td>\n",
       "      <td>-4.304423e+07</td>\n",
       "    </tr>\n",
       "    <tr>\n",
       "      <th>20</th>\n",
       "      <td>spherical</td>\n",
       "      <td>21</td>\n",
       "      <td>-2.015251e+07</td>\n",
       "    </tr>\n",
       "    <tr>\n",
       "      <th>21</th>\n",
       "      <td>spherical</td>\n",
       "      <td>22</td>\n",
       "      <td>-2.015771e+07</td>\n",
       "    </tr>\n",
       "    <tr>\n",
       "      <th>22</th>\n",
       "      <td>spherical</td>\n",
       "      <td>23</td>\n",
       "      <td>-2.015771e+07</td>\n",
       "    </tr>\n",
       "    <tr>\n",
       "      <th>23</th>\n",
       "      <td>spherical</td>\n",
       "      <td>24</td>\n",
       "      <td>-2.015771e+07</td>\n",
       "    </tr>\n",
       "    <tr>\n",
       "      <th>24</th>\n",
       "      <td>spherical</td>\n",
       "      <td>25</td>\n",
       "      <td>-4.333832e+07</td>\n",
       "    </tr>\n",
       "    <tr>\n",
       "      <th>25</th>\n",
       "      <td>spherical</td>\n",
       "      <td>26</td>\n",
       "      <td>-4.333833e+07</td>\n",
       "    </tr>\n",
       "    <tr>\n",
       "      <th>26</th>\n",
       "      <td>spherical</td>\n",
       "      <td>27</td>\n",
       "      <td>-4.333901e+07</td>\n",
       "    </tr>\n",
       "    <tr>\n",
       "      <th>27</th>\n",
       "      <td>spherical</td>\n",
       "      <td>28</td>\n",
       "      <td>-4.333900e+07</td>\n",
       "    </tr>\n",
       "    <tr>\n",
       "      <th>28</th>\n",
       "      <td>spherical</td>\n",
       "      <td>29</td>\n",
       "      <td>-4.333704e+07</td>\n",
       "    </tr>\n",
       "  </tbody>\n",
       "</table>\n",
       "</div>"
      ],
      "text/plain": [
       "   Covariance_Type  N_Components     AIC_Score\n",
       "0        spherical             1  7.670200e+07\n",
       "1        spherical             2  5.049975e+07\n",
       "2        spherical             3  4.336234e+07\n",
       "3        spherical             4  4.188173e+07\n",
       "4        spherical             5 -1.955134e+07\n",
       "5        spherical             6 -1.981411e+07\n",
       "6        spherical             7 -1.986674e+07\n",
       "7        spherical             8 -1.989408e+07\n",
       "8        spherical             9 -1.993911e+07\n",
       "9        spherical            10 -1.993877e+07\n",
       "10       spherical            11 -1.993925e+07\n",
       "11       spherical            12 -1.993812e+07\n",
       "12       spherical            13 -1.995769e+07\n",
       "13       spherical            14 -2.002038e+07\n",
       "14       spherical            15 -2.010050e+07\n",
       "15       spherical            16 -2.010017e+07\n",
       "16       spherical            17 -2.010085e+07\n",
       "17       spherical            18 -2.010111e+07\n",
       "18       spherical            19 -2.010193e+07\n",
       "19       spherical            20 -4.304423e+07\n",
       "20       spherical            21 -2.015251e+07\n",
       "21       spherical            22 -2.015771e+07\n",
       "22       spherical            23 -2.015771e+07\n",
       "23       spherical            24 -2.015771e+07\n",
       "24       spherical            25 -4.333832e+07\n",
       "25       spherical            26 -4.333833e+07\n",
       "26       spherical            27 -4.333901e+07\n",
       "27       spherical            28 -4.333900e+07\n",
       "28       spherical            29 -4.333704e+07"
      ]
     },
     "execution_count": 75,
     "metadata": {},
     "output_type": "execute_result"
    }
   ],
   "source": [
    "aic_score_1.iloc[0:29,:]"
   ]
  }
 ],
 "metadata": {
  "kernelspec": {
   "display_name": "Python 3 (ipykernel)",
   "language": "python",
   "name": "python3"
  },
  "language_info": {
   "codemirror_mode": {
    "name": "ipython",
    "version": 3
   },
   "file_extension": ".py",
   "mimetype": "text/x-python",
   "name": "python",
   "nbconvert_exporter": "python",
   "pygments_lexer": "ipython3",
   "version": "3.9.7"
  }
 },
 "nbformat": 4,
 "nbformat_minor": 5
}
